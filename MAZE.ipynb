{
 "cells": [
  {
   "cell_type": "code",
   "execution_count": 2,
   "id": "d41183da-1455-435e-97d8-a6adee78ff5a",
   "metadata": {},
   "outputs": [
    {
     "name": "stdin",
     "output_type": "stream",
     "text": [
      "Please enter an integer:  6\n",
      "Please enter an integer:  6\n"
     ]
    },
    {
     "name": "stdout",
     "output_type": "stream",
     "text": [
      "number is 46656.0\n"
     ]
    }
   ],
   "source": [
    "import random\n",
    "\n",
    "def generate_maze(width, height):\n",
    "    maze = [['#' for _ in range(width)] for _ in range(height)]\n",
    "\n",
    "    def create_path(x, y):\n",
    "        maze[y][x] = ' '\n",
    "\n",
    "        directions = [(2, 0), (-2, 0), (0, 2), (0, -2)]\n",
    "        random.shuffle(directions)\n",
    "\n",
    "        for dx, dy in directions:\n",
    "            nx, ny = x + dx, y + dy\n",
    "\n",
    "            if 0 <= nx < width and 0 <= ny < height and maze[ny][nx] == '#':\n",
    "                maze[ny - dy // 2][nx - dx // 2] = ' '\n",
    "                create_path(nx, ny)\n",
    "\n",
    "    create_path(random.randrange(1, width - 1, 2), random.randrange(1, height - 1, 2))\n",
    "\n",
    "    return maze\n",
    "\n",
    "def print_maze(maze):\n",
    "    for row in maze:\n",
    "        print(' '.join(row))\n",
    "\n",
    "maze_width = int(input(\"Enter the maze width: \"))\n",
    "maze_height = int(input(\"Enter the maze height: \"))\n",
    "\n",
    "maze = generate_maze(maze_width, maze_height)\n",
    "print_maze(maze)\n"
   ]
  },
  {
   "cell_type": "code",
   "execution_count": null,
   "id": "2a16f4df-1035-47ae-b340-05e4ca3048e3",
   "metadata": {},
   "outputs": [],
   "source": []
  }
 ],
 "metadata": {
  "kernelspec": {
   "display_name": "Python 3 (ipykernel)",
   "language": "python",
   "name": "python3"
  },
  "language_info": {
   "codemirror_mode": {
    "name": "ipython",
    "version": 3
   },
   "file_extension": ".py",
   "mimetype": "text/x-python",
   "name": "python",
   "nbconvert_exporter": "python",
   "pygments_lexer": "ipython3",
   "version": "3.9.12"
  }
 },
 "nbformat": 4,
 "nbformat_minor": 5
}
